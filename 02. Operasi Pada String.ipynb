{
 "cells": [
  {
   "cell_type": "markdown",
   "metadata": {},
   "source": [
    "# Mengenal Python"
   ]
  },
  {
   "cell_type": "markdown",
   "metadata": {},
   "source": [
    "## Daftar Isi\n",
    "* [String](#type)\n",
    "    * [String Index](#index)\n",
    "    * [String Lenght](#index)\n",
    "    * [String Slicing](#index)\n",
    "    * [String Striding](#index)\n",
    "    * [String Concatenation](#index)\n",
    "    * [String Replication](#index)\n",
    "    * [String are Immutable](#index)\n",
    "    * [Penulisan dalam String Lainnya](#index)\n",
    "    * [String Method](#index)\n",
    "\n",
    "--------------------------"
   ]
  },
  {
   "cell_type": "markdown",
   "metadata": {},
   "source": [
    "## ==================================\n",
    "\n",
    "## String\n",
    "\n",
    "## =================================="
   ]
  },
  {
   "cell_type": "markdown",
   "metadata": {},
   "source": [
    "String adalah sebuah kalimat dari sebuah karakter yang berada diantara tanda kutip dua (\" \") atau tanda kutip satu (' '). String dapat mengandung spasi, digit angka, karakter spesial, dan lain-lain."
   ]
  },
  {
   "cell_type": "code",
   "execution_count": 1,
   "metadata": {},
   "outputs": [
    {
     "data": {
      "text/plain": [
       "'1 2 3 ! # $'"
      ]
     },
     "execution_count": 1,
     "metadata": {},
     "output_type": "execute_result"
    }
   ],
   "source": [
    "\"1 2 3 ! # $\""
   ]
  },
  {
   "cell_type": "code",
   "execution_count": 2,
   "metadata": {},
   "outputs": [
    {
     "data": {
      "text/plain": [
       "'1 2 3 ! # $'"
      ]
     },
     "execution_count": 2,
     "metadata": {},
     "output_type": "execute_result"
    }
   ],
   "source": [
    "'1 2 3 ! # $'"
   ]
  },
  {
   "cell_type": "markdown",
   "metadata": {},
   "source": [
    "-----------"
   ]
  },
  {
   "cell_type": "markdown",
   "metadata": {},
   "source": [
    "## 1. String Index"
   ]
  },
  {
   "cell_type": "markdown",
   "metadata": {},
   "source": [
    "Dalam melakukan index pada string, harus membuat varibelnya terlebih dahulu agar bisa dipanggil dengan index."
   ]
  },
  {
   "cell_type": "code",
   "execution_count": 3,
   "metadata": {},
   "outputs": [],
   "source": [
    "station = 'Semarang Tawang'"
   ]
  },
  {
   "cell_type": "markdown",
   "metadata": {},
   "source": [
    "### station = 'Semarang Tawang'\n",
    "\n",
    "<img src=\"img/semarang-tawang.PNG\"/>\n",
    "\n",
    "- station[0] artinya index ke-0 dari variabel station adalah S\n",
    "- station[1] artinya index ke-1 dari variabel station 1 adalah e\n",
    "- station[14] artinya index ke-14 dari variabel station 14 adalah g\n",
    "- dst"
   ]
  },
  {
   "cell_type": "code",
   "execution_count": 4,
   "metadata": {
    "scrolled": true
   },
   "outputs": [
    {
     "data": {
      "text/plain": [
       "'S'"
      ]
     },
     "execution_count": 4,
     "metadata": {},
     "output_type": "execute_result"
    }
   ],
   "source": [
    "# index non negatif makan index dimulai dari 0, berjalan dari kiri ke kanan\n",
    "station[0]"
   ]
  },
  {
   "cell_type": "code",
   "execution_count": 8,
   "metadata": {},
   "outputs": [
    {
     "data": {
      "text/plain": [
       "'e'"
      ]
     },
     "execution_count": 8,
     "metadata": {},
     "output_type": "execute_result"
    }
   ],
   "source": [
    "station[1]"
   ]
  },
  {
   "cell_type": "code",
   "execution_count": 9,
   "metadata": {
    "scrolled": true
   },
   "outputs": [
    {
     "data": {
      "text/plain": [
       "'g'"
      ]
     },
     "execution_count": 9,
     "metadata": {},
     "output_type": "execute_result"
    }
   ],
   "source": [
    "station[14]"
   ]
  },
  {
   "cell_type": "markdown",
   "metadata": {},
   "source": [
    "Dalam memanggil index juga dapat dilakukan dari index belakang"
   ]
  },
  {
   "cell_type": "markdown",
   "metadata": {},
   "source": [
    "### station = 'Semarang Tawang'\n",
    "<img src=\"img/semarang-tawang-negative.PNG\"/>\n",
    "\n",
    "- station[-1] artinya index ke-1 dari belakang di variabel station adalah  g\n",
    "- station[-2] artinya index ke-2 dari belakang di variabel station adalah  n\n",
    "- station[-15] artinya index ke-15 dari belakang di variabel station  adalah S\n",
    "- dst"
   ]
  },
  {
   "cell_type": "code",
   "execution_count": 10,
   "metadata": {
    "scrolled": true
   },
   "outputs": [
    {
     "data": {
      "text/plain": [
       "'g'"
      ]
     },
     "execution_count": 10,
     "metadata": {},
     "output_type": "execute_result"
    }
   ],
   "source": [
    "# index negatif makan index dimulai dari -1, berjalan dari kanan ke kiri\n",
    "station[-1]"
   ]
  },
  {
   "cell_type": "code",
   "execution_count": 11,
   "metadata": {},
   "outputs": [
    {
     "data": {
      "text/plain": [
       "'n'"
      ]
     },
     "execution_count": 11,
     "metadata": {},
     "output_type": "execute_result"
    }
   ],
   "source": [
    "station[-2]"
   ]
  },
  {
   "cell_type": "code",
   "execution_count": 7,
   "metadata": {
    "scrolled": true
   },
   "outputs": [
    {
     "data": {
      "text/plain": [
       "'S'"
      ]
     },
     "execution_count": 7,
     "metadata": {},
     "output_type": "execute_result"
    }
   ],
   "source": [
    "station[-15]"
   ]
  },
  {
   "cell_type": "markdown",
   "metadata": {},
   "source": [
    "-----------"
   ]
  },
  {
   "cell_type": "markdown",
   "metadata": {},
   "source": [
    "## 2. String Lenght"
   ]
  },
  {
   "cell_type": "markdown",
   "metadata": {},
   "source": [
    "String lenght adalah panjang atau jumlah karakter pada variabel atau objek. Pada python untuk string lenght ini menggunakan <code>len()</code>."
   ]
  },
  {
   "cell_type": "code",
   "execution_count": 36,
   "metadata": {},
   "outputs": [
    {
     "data": {
      "text/plain": [
       "15"
      ]
     },
     "execution_count": 36,
     "metadata": {},
     "output_type": "execute_result"
    }
   ],
   "source": [
    "len(station)"
   ]
  },
  {
   "cell_type": "code",
   "execution_count": 12,
   "metadata": {
    "scrolled": true
   },
   "outputs": [
    {
     "data": {
      "text/plain": [
       "12"
      ]
     },
     "execution_count": 12,
     "metadata": {},
     "output_type": "execute_result"
    }
   ],
   "source": [
    "len(\"Hello World!\")"
   ]
  },
  {
   "cell_type": "markdown",
   "metadata": {},
   "source": [
    "-----------"
   ]
  },
  {
   "cell_type": "markdown",
   "metadata": {},
   "source": [
    "## 3. String Slicing"
   ]
  },
  {
   "cell_type": "markdown",
   "metadata": {},
   "source": [
    "String slicing adalah mengambil beberapa karakter pada variabel atau objek suatu string. Cara memotong atau mengambilnya yaitu dengan memanggil index dari variabelnya. Pada python untuk string slicing menggunakan:\n",
    "\n",
    "<code>Variabel[m : n]</code>, n >= m\n",
    "\n",
    "artinya akan mengambil suatu karakter yang dimulai dari m dan berakhir pada n-1. Syaratnya adalah n harus lebih besar sama dengan m."
   ]
  },
  {
   "cell_type": "markdown",
   "metadata": {},
   "source": [
    "**CONTOH**\n",
    "\n",
    "\"Semarang Tawang\" [0 : 5] --> mengambil karakter 0 sampai karakter (5 - 1 = 4). \n",
    "    \n",
    "\"Semarang Tawang\" [7 : 12] --> mengambil karakter 7 sampai sebelum karakter (12 - 1 = 11)\n",
    "\n",
    "<img src=\"img/semarang-tawang-slicing.PNG\"/>"
   ]
  },
  {
   "cell_type": "code",
   "execution_count": 38,
   "metadata": {},
   "outputs": [
    {
     "data": {
      "text/plain": [
       "'Semar'"
      ]
     },
     "execution_count": 38,
     "metadata": {},
     "output_type": "execute_result"
    }
   ],
   "source": [
    "station[0 : 5]"
   ]
  },
  {
   "cell_type": "code",
   "execution_count": 39,
   "metadata": {
    "scrolled": false
   },
   "outputs": [
    {
     "data": {
      "text/plain": [
       "'g Taw'"
      ]
     },
     "execution_count": 39,
     "metadata": {},
     "output_type": "execute_result"
    }
   ],
   "source": [
    "station[7 : 12]"
   ]
  },
  {
   "cell_type": "markdown",
   "metadata": {},
   "source": [
    "-----------"
   ]
  },
  {
   "cell_type": "markdown",
   "metadata": {},
   "source": [
    "## 4. String Striding"
   ]
  },
  {
   "cell_type": "markdown",
   "metadata": {},
   "source": [
    "String striding adalah mengambil beberapa karakter pada variabel atau objek suatu string dengan loncatan yang ditentukan. Pada python untuk string striding menggunakan:\n",
    "\n",
    "<code>Variabel[m:n:o]</code>, jika o>0 maka m<n, jika o<0 maka m>n\n",
    "\n",
    "artinya akan mengambil suatu karakter yang dimulai dari m dan berakhir pada n-1 dengan karakter yang diambil loncat sebanyak o karakter. Syaratnya yaitu jika o lebih besar dari nol, maka m harus lebih kecil dari n. Sebaliknya, jika o lebih kecil dari nol, maka m harus lebih besar dari n."
   ]
  },
  {
   "cell_type": "markdown",
   "metadata": {},
   "source": [
    "**CONTOH**\n",
    "\n",
    "station[1:11:2] --> mengambil karakter 1 sampai karakter (11 - 1 = 10), dengan loncatan sebanyak 2 karakter.\n",
    "\n",
    "<img src=\"img/semarang-tawang-striding.PNG\"/>"
   ]
  },
  {
   "cell_type": "code",
   "execution_count": 40,
   "metadata": {},
   "outputs": [
    {
     "data": {
      "text/plain": [
       "'eaagT'"
      ]
     },
     "execution_count": 40,
     "metadata": {},
     "output_type": "execute_result"
    }
   ],
   "source": [
    "station[1:11:2]"
   ]
  },
  {
   "cell_type": "code",
   "execution_count": 41,
   "metadata": {},
   "outputs": [
    {
     "data": {
      "text/plain": [
       "'Tgaae'"
      ]
     },
     "execution_count": 41,
     "metadata": {},
     "output_type": "execute_result"
    }
   ],
   "source": [
    "station[-6:-15:-2]"
   ]
  },
  {
   "cell_type": "code",
   "execution_count": 42,
   "metadata": {},
   "outputs": [
    {
     "data": {
      "text/plain": [
       "'Smrn aag'"
      ]
     },
     "execution_count": 42,
     "metadata": {},
     "output_type": "execute_result"
    }
   ],
   "source": [
    "station[::2]"
   ]
  },
  {
   "cell_type": "code",
   "execution_count": 43,
   "metadata": {
    "scrolled": true
   },
   "outputs": [
    {
     "data": {
      "text/plain": [
       "'gaa nrmS'"
      ]
     },
     "execution_count": 43,
     "metadata": {},
     "output_type": "execute_result"
    }
   ],
   "source": [
    "station[::-2]"
   ]
  },
  {
   "cell_type": "markdown",
   "metadata": {},
   "source": [
    "-----------"
   ]
  },
  {
   "cell_type": "markdown",
   "metadata": {},
   "source": [
    "## 5. String Concatenation"
   ]
  },
  {
   "cell_type": "markdown",
   "metadata": {},
   "source": [
    "String concatenation adalah penggabungan sebuah string menggunakan operator penjumlahan (+). Penggabungan dapat dilakukan dengan string itu sendiri atau variabel."
   ]
  },
  {
   "cell_type": "code",
   "execution_count": 13,
   "metadata": {},
   "outputs": [],
   "source": [
    "station = \"Semarang Tawang\""
   ]
  },
  {
   "cell_type": "code",
   "execution_count": 14,
   "metadata": {},
   "outputs": [],
   "source": [
    "adj = \"indah\""
   ]
  },
  {
   "cell_type": "code",
   "execution_count": 24,
   "metadata": {
    "scrolled": true
   },
   "outputs": [
    {
     "data": {
      "text/plain": [
       "'Semarang Tawang adalah sebuah stasiun yang indah.'"
      ]
     },
     "execution_count": 24,
     "metadata": {},
     "output_type": "execute_result"
    }
   ],
   "source": [
    "station + \" adalah sebuah stasiun yang \" + adj + \".\""
   ]
  },
  {
   "cell_type": "markdown",
   "metadata": {},
   "source": [
    "-----------"
   ]
  },
  {
   "cell_type": "markdown",
   "metadata": {},
   "source": [
    "## 6. String Replication"
   ]
  },
  {
   "cell_type": "markdown",
   "metadata": {},
   "source": [
    "    String replication adalah penggandaan sebuah string menggunakan operator perkalian (*). Penggandaan dapat dilakukan dengan string itu sendiri atau variabel yang dikalikan dengan sebuah angka."
   ]
  },
  {
   "cell_type": "code",
   "execution_count": 21,
   "metadata": {},
   "outputs": [],
   "source": [
    "station = \"Semarang Tawang\""
   ]
  },
  {
   "cell_type": "code",
   "execution_count": 22,
   "metadata": {},
   "outputs": [
    {
     "data": {
      "text/plain": [
       "'Semarang TawangSemarang TawangSemarang Tawang'"
      ]
     },
     "execution_count": 22,
     "metadata": {},
     "output_type": "execute_result"
    }
   ],
   "source": [
    "station * 3"
   ]
  },
  {
   "cell_type": "code",
   "execution_count": 23,
   "metadata": {},
   "outputs": [],
   "source": [
    "adj = \"indah\""
   ]
  },
  {
   "cell_type": "code",
   "execution_count": 26,
   "metadata": {
    "scrolled": false
   },
   "outputs": [
    {
     "data": {
      "text/plain": [
       "'Semarang Tawang adalah sebuah stasiun yang sangat sangat indah.'"
      ]
     },
     "execution_count": 26,
     "metadata": {},
     "output_type": "execute_result"
    }
   ],
   "source": [
    "station + \" adalah sebuah stasiun yang \" + \"sangat \" *2 + adj + \".\""
   ]
  },
  {
   "cell_type": "markdown",
   "metadata": {},
   "source": [
    "-----------"
   ]
  },
  {
   "cell_type": "markdown",
   "metadata": {},
   "source": [
    "## 7. String are immutable"
   ]
  },
  {
   "cell_type": "markdown",
   "metadata": {},
   "source": [
    "String are immutable, maksudnya adalah sebuah string tidak dapat dirubah atau diganti karakternya. Tetapi string dalam variabel dapat dirubah dengan cara menambahkan karakter baru."
   ]
  },
  {
   "cell_type": "code",
   "execution_count": 27,
   "metadata": {},
   "outputs": [],
   "source": [
    "station = \"Semarang Tawang\""
   ]
  },
  {
   "cell_type": "code",
   "execution_count": 28,
   "metadata": {
    "scrolled": false
   },
   "outputs": [
    {
     "ename": "TypeError",
     "evalue": "'str' object does not support item assignment",
     "output_type": "error",
     "traceback": [
      "\u001b[1;31m---------------------------------------------------------------------------\u001b[0m",
      "\u001b[1;31mTypeError\u001b[0m                                 Traceback (most recent call last)",
      "\u001b[1;32m<ipython-input-28-727b7c2df98c>\u001b[0m in \u001b[0;36m<module>\u001b[1;34m\u001b[0m\n\u001b[1;32m----> 1\u001b[1;33m \u001b[0mstation\u001b[0m\u001b[1;33m[\u001b[0m\u001b[1;36m0\u001b[0m\u001b[1;33m]\u001b[0m \u001b[1;33m=\u001b[0m \u001b[1;34m'e'\u001b[0m\u001b[1;33m\u001b[0m\u001b[1;33m\u001b[0m\u001b[0m\n\u001b[0m",
      "\u001b[1;31mTypeError\u001b[0m: 'str' object does not support item assignment"
     ]
    }
   ],
   "source": [
    "station[0] = 'e'"
   ]
  },
  {
   "cell_type": "code",
   "execution_count": 32,
   "metadata": {},
   "outputs": [],
   "source": [
    "# merubah variabel dengan menambahkan string baru\n",
    "station = \"Stasiun \" + station"
   ]
  },
  {
   "cell_type": "code",
   "execution_count": 33,
   "metadata": {
    "scrolled": false
   },
   "outputs": [
    {
     "data": {
      "text/plain": [
       "'Stasiun stasiun Semarang Tawang'"
      ]
     },
     "execution_count": 33,
     "metadata": {},
     "output_type": "execute_result"
    }
   ],
   "source": [
    "station"
   ]
  },
  {
   "cell_type": "markdown",
   "metadata": {},
   "source": [
    "-----------"
   ]
  },
  {
   "cell_type": "markdown",
   "metadata": {},
   "source": [
    "## 8. Penulisan dalam string lainnya"
   ]
  },
  {
   "cell_type": "markdown",
   "metadata": {},
   "source": [
    "Pada kasus tertentu pada string, tidak bisa ditulis langsung seperti penulisan string biasanya. Kasus tersebut seperti tab, enter, karakter '\\'. Untuk itu, diperlukan pencetakan secara khusus dengan menambahkan method <code>print()</code>.\n",
    "\n",
    "Bentuk penulisan pada kasus khusus tersebut yaitu:\n",
    "- tab : \\t\n",
    "- enter : \\n\n",
    "- \\ : \\\\ atau menambahkan r di depan perintah cetak"
   ]
  },
  {
   "cell_type": "code",
   "execution_count": 45,
   "metadata": {
    "scrolled": true
   },
   "outputs": [
    {
     "data": {
      "text/plain": [
       "'Semarang \\t Tawang'"
      ]
     },
     "execution_count": 45,
     "metadata": {},
     "output_type": "execute_result"
    }
   ],
   "source": [
    "# tanpa menggunakan method print(). Semua tercetak Semua tercetak yang ada di dalam tanda kutip.\n",
    "\"Semarang \\t Tawang\""
   ]
  },
  {
   "cell_type": "code",
   "execution_count": 47,
   "metadata": {
    "scrolled": true
   },
   "outputs": [
    {
     "name": "stdout",
     "output_type": "stream",
     "text": [
      "Semarang \tTawang\n"
     ]
    }
   ],
   "source": [
    "# kasus khusus untuk mencetak tab\n",
    "print(\"Semarang \\tTawang\")"
   ]
  },
  {
   "cell_type": "code",
   "execution_count": 48,
   "metadata": {
    "scrolled": true
   },
   "outputs": [
    {
     "data": {
      "text/plain": [
       "'Semarang \\n Tawang'"
      ]
     },
     "execution_count": 48,
     "metadata": {},
     "output_type": "execute_result"
    }
   ],
   "source": [
    "# tanpa menggunakan method print(). Semua tercetak yang ada di dalam tanda kutip.\n",
    "\"Semarang \\n Tawang\""
   ]
  },
  {
   "cell_type": "code",
   "execution_count": 49,
   "metadata": {
    "scrolled": true
   },
   "outputs": [
    {
     "name": "stdout",
     "output_type": "stream",
     "text": [
      "Semarang \t Tawang\n"
     ]
    }
   ],
   "source": [
    "# kasus khusus untuk mencetak enter\n",
    "print(\"Semarang \\t Tawang\")"
   ]
  },
  {
   "cell_type": "code",
   "execution_count": 50,
   "metadata": {},
   "outputs": [
    {
     "name": "stdout",
     "output_type": "stream",
     "text": [
      "Semarang \tTawang\n"
     ]
    }
   ],
   "source": [
    "print(\"Semarang \\tTawang\")"
   ]
  },
  {
   "cell_type": "code",
   "execution_count": 58,
   "metadata": {
    "scrolled": true
   },
   "outputs": [
    {
     "data": {
      "text/plain": [
       "'Semarang \\\\ Tawang'"
      ]
     },
     "execution_count": 58,
     "metadata": {},
     "output_type": "execute_result"
    }
   ],
   "source": [
    "# tanpa menggunakan method print().\n",
    "# ingin mencetak satu garis miring kiri, tetapi tercetak dua garis miring kiri.\n",
    "\"Semarang \\ Tawang\""
   ]
  },
  {
   "cell_type": "code",
   "execution_count": 60,
   "metadata": {
    "scrolled": true
   },
   "outputs": [
    {
     "name": "stdout",
     "output_type": "stream",
     "text": [
      "Semarang \\ Tawang\n"
     ]
    }
   ],
   "source": [
    "print(\"Semarang \\ Tawang\")"
   ]
  },
  {
   "cell_type": "markdown",
   "metadata": {},
   "source": [
    "-----------"
   ]
  },
  {
   "cell_type": "markdown",
   "metadata": {},
   "source": [
    "## 9. String Method \n",
    "\n",
    "- uppercase version : method <code>upper()</code>\n",
    "- replace substring : method <code>replace()</code>\n",
    "- find substring : method <code>find()</code>\n",
    "\n",
    "method string lainnya dapat dilihat di https://docs.python.org/3/library/stdtypes.html#string-methods."
   ]
  },
  {
   "cell_type": "code",
   "execution_count": 65,
   "metadata": {},
   "outputs": [
    {
     "data": {
      "text/plain": [
       "'STASIUN SEMARANG TAWANG'"
      ]
     },
     "execution_count": 65,
     "metadata": {},
     "output_type": "execute_result"
    }
   ],
   "source": [
    "# uppercase version yaitu membuat semua karakter menjadi huruf besar secara keseluruhan\n",
    "# menggunakan method upper()\n",
    "A = \"Stasiun Semarang Tawang\"\n",
    "A.upper()"
   ]
  },
  {
   "cell_type": "code",
   "execution_count": 66,
   "metadata": {},
   "outputs": [
    {
     "data": {
      "text/plain": [
       "'stAsiun semArAng tAwAng'"
      ]
     },
     "execution_count": 66,
     "metadata": {},
     "output_type": "execute_result"
    }
   ],
   "source": [
    "# replace substring yaitu merubah atau mengganti kata atau karakter dengan kata atau karakter yang baru\n",
    "# menggunakan method replace()\n",
    "B = \"stasiun semarang tawang\"\n",
    "B.replace(\"a\", \"A\")"
   ]
  },
  {
   "cell_type": "code",
   "execution_count": 67,
   "metadata": {
    "scrolled": true
   },
   "outputs": [
    {
     "data": {
      "text/plain": [
       "6"
      ]
     },
     "execution_count": 67,
     "metadata": {},
     "output_type": "execute_result"
    }
   ],
   "source": [
    "# find substring yaitu mencari kata atau karakter pada string yang diberikan\n",
    "# menggunakan method find()\n",
    "# hasilnya yaitu menunjukkan index pertama dari kata atau karakter yang dicari\n",
    "station = \"Semarang Tawang\"\n",
    "station.find('ng')"
   ]
  },
  {
   "cell_type": "markdown",
   "metadata": {},
   "source": [
    "-----------"
   ]
  },
  {
   "cell_type": "markdown",
   "metadata": {},
   "source": [
    "Saya menuliskan ini untuk berbagi hasil pembelajaran saya mengenai Dasar-dasar Python.\n",
    "\n",
    "Semoga Bermanfaat :)\n",
    "\n",
    "Terimakasih\n",
    "\n",
    "-----"
   ]
  }
 ],
 "metadata": {
  "kernelspec": {
   "display_name": "Python 3",
   "language": "python",
   "name": "python3"
  },
  "language_info": {
   "codemirror_mode": {
    "name": "ipython",
    "version": 3
   },
   "file_extension": ".py",
   "mimetype": "text/x-python",
   "name": "python",
   "nbconvert_exporter": "python",
   "pygments_lexer": "ipython3",
   "version": "3.7.3"
  }
 },
 "nbformat": 4,
 "nbformat_minor": 2
}
