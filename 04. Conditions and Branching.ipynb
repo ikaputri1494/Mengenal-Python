{
 "cells": [
  {
   "cell_type": "markdown",
   "metadata": {},
   "source": [
    "# Mengenal Python"
   ]
  },
  {
   "cell_type": "markdown",
   "metadata": {},
   "source": [
    "## Daftar Isi\n",
    "* [Condition Statements](#type)\n",
    "    * [Operator Comparison](#index)\n",
    "    * [Branching](#index)\n",
    "    * [Operasi Logika](#index)\n",
    "\n",
    "--------------------------"
   ]
  },
  {
   "cell_type": "markdown",
   "metadata": {},
   "source": [
    "## ==================================\n",
    "\n",
    "## Conditions and Branching\n",
    "\n",
    "## =================================="
   ]
  },
  {
   "cell_type": "markdown",
   "metadata": {},
   "source": [
    "### 1. Operator Comparison"
   ]
  },
  {
   "cell_type": "markdown",
   "metadata": {},
   "source": [
    "Operator comparison adalah operator yang digunakan untuk membandingkan suatu hasil atau operand yang didasarkan pada kondisi. Hasil dari operasi perbandingan ini adalah bilangan boolean. Ketika kita ingin membandingkan dua hasil, dapat menggunakan operator: \n",
    "- sama dengan (==)\n",
    "- tidak sama dengan (!=)\n",
    "- kurang dari sama dengan (<=)\n",
    "- lebih dari sama dengan (>=)\n",
    "- kurang dari (<)\n",
    "- lebih dari (>)"
   ]
  },
  {
   "cell_type": "markdown",
   "metadata": {},
   "source": [
    "Didefinisikan <code>a</code> hasilnya adalah 5. Dengan menggunakan operator sama dengan, bandingkan variabel <code>a</code> dengan 5."
   ]
  },
  {
   "cell_type": "code",
   "execution_count": 1,
   "metadata": {},
   "outputs": [],
   "source": [
    "# mendefinisikan a\n",
    "a = 5"
   ]
  },
  {
   "cell_type": "code",
   "execution_count": 2,
   "metadata": {},
   "outputs": [
    {
     "data": {
      "text/plain": [
       "True"
      ]
     },
     "execution_count": 2,
     "metadata": {},
     "output_type": "execute_result"
    }
   ],
   "source": [
    "# membandingkan a dengan 5\n",
    "a == 5"
   ]
  },
  {
   "cell_type": "markdown",
   "metadata": {},
   "source": [
    "Hasilnya benar, karena <code>a</code> sama dengan 5."
   ]
  },
  {
   "cell_type": "code",
   "execution_count": 3,
   "metadata": {},
   "outputs": [
    {
     "data": {
      "text/plain": [
       "True"
      ]
     },
     "execution_count": 3,
     "metadata": {},
     "output_type": "execute_result"
    }
   ],
   "source": [
    "# membandingkan a dengan 6\n",
    "a != 6"
   ]
  },
  {
   "cell_type": "markdown",
   "metadata": {},
   "source": [
    "Hasilnya benar, karena <code>a</code> tidak sama dengan 6."
   ]
  },
  {
   "cell_type": "markdown",
   "metadata": {},
   "source": [
    "Dengan menggunakan operator lebih kecil dan operator lebih besar, bandingkan variabel <code>a</code> dengan 7."
   ]
  },
  {
   "cell_type": "code",
   "execution_count": 4,
   "metadata": {
    "scrolled": true
   },
   "outputs": [
    {
     "data": {
      "text/plain": [
       "True"
      ]
     },
     "execution_count": 4,
     "metadata": {},
     "output_type": "execute_result"
    }
   ],
   "source": [
    "# membandingkan menggunakan operator lebih kecil\n",
    "a < 7"
   ]
  },
  {
   "cell_type": "code",
   "execution_count": 5,
   "metadata": {
    "scrolled": true
   },
   "outputs": [
    {
     "data": {
      "text/plain": [
       "False"
      ]
     },
     "execution_count": 5,
     "metadata": {},
     "output_type": "execute_result"
    }
   ],
   "source": [
    "# membandingkan menggunakan operator lebih besar\n",
    "a > 7"
   ]
  },
  {
   "cell_type": "markdown",
   "metadata": {},
   "source": [
    "Hasil yang benar adalah <code>a</code> lebih kecil dari 7."
   ]
  },
  {
   "cell_type": "markdown",
   "metadata": {},
   "source": [
    "Dengan menggunakan operator lebih kecil sama dengan dan operator lebih besar sama dengan, bandingkan variabel <code>a</code> dengan 7."
   ]
  },
  {
   "cell_type": "code",
   "execution_count": 6,
   "metadata": {
    "scrolled": true
   },
   "outputs": [
    {
     "data": {
      "text/plain": [
       "True"
      ]
     },
     "execution_count": 6,
     "metadata": {},
     "output_type": "execute_result"
    }
   ],
   "source": [
    "# membandingkan menggunakan operator lebih kecil sama dengan \n",
    "a <= 7"
   ]
  },
  {
   "cell_type": "code",
   "execution_count": 7,
   "metadata": {
    "scrolled": true
   },
   "outputs": [
    {
     "data": {
      "text/plain": [
       "False"
      ]
     },
     "execution_count": 7,
     "metadata": {},
     "output_type": "execute_result"
    }
   ],
   "source": [
    "# membandingkan menggunakan operator lebih besar sama dengan \n",
    "a >= 7"
   ]
  },
  {
   "cell_type": "markdown",
   "metadata": {},
   "source": [
    "Hasil yang benar adalah <code>a</code> lebih kecil dari 7."
   ]
  },
  {
   "cell_type": "markdown",
   "metadata": {},
   "source": [
    "**Membandingkan String**"
   ]
  },
  {
   "cell_type": "markdown",
   "metadata": {},
   "source": [
    "Kita dapat menggunakan perbandingan tersebut menggunakan string. Penggunaan huruf kapital maupun huruf kecil sangat sensitif dalam perbandingan ini. Sehingga jika ada perbedaan huruf, maka akan menghasilkan **False**."
   ]
  },
  {
   "cell_type": "code",
   "execution_count": 8,
   "metadata": {},
   "outputs": [
    {
     "data": {
      "text/plain": [
       "False"
      ]
     },
     "execution_count": 8,
     "metadata": {},
     "output_type": "execute_result"
    }
   ],
   "source": [
    "# Menggunakan operator sama dengan menggunakan string\n",
    "\"Depok\" == \"Bogor\""
   ]
  },
  {
   "cell_type": "code",
   "execution_count": 9,
   "metadata": {},
   "outputs": [
    {
     "data": {
      "text/plain": [
       "False"
      ]
     },
     "execution_count": 9,
     "metadata": {},
     "output_type": "execute_result"
    }
   ],
   "source": [
    "\"Depok\" == \"depok\""
   ]
  },
  {
   "cell_type": "code",
   "execution_count": 10,
   "metadata": {
    "scrolled": true
   },
   "outputs": [
    {
     "data": {
      "text/plain": [
       "True"
      ]
     },
     "execution_count": 10,
     "metadata": {},
     "output_type": "execute_result"
    }
   ],
   "source": [
    "\"Depok\" != \"depok\""
   ]
  },
  {
   "cell_type": "markdown",
   "metadata": {},
   "source": [
    "Dalam operasi perbandingan menggunakan string (kata/huruf/simbol) digunakan tabel ASCII untuk perbandingan hasilnya. Tabel ASCII dapat dilihat pada tabel berikut:"
   ]
  },
  {
   "cell_type": "markdown",
   "metadata": {},
   "source": [
    "| Name | Dec | Symbol | Name | Dec | Symbol | Name | Dec | Symbol | Name | Dec | Symbol |\n",
    "|:-----|:----|:-------|:-----|:----|:-------|:-----|:----|:-------|:-----|:----|:-------|\n",
    "| (Null character) | 0 | NULL | (Space) | 32 | &nbsp; | (At sign) | 64 | @ | (Grave accent) | 96 | ` |\n",
    "| (Start of Header) | 1 | SOH | (Exclamation mark) | 33 | ! | (Capital A) | 65 | A | (Lowercase  a ) | 97 | a |\n",
    "| (Start of Text) | 2 | STX | (Quotation mark ; quotes) | 34 | \" | (Capital B) | 66 | B | (Lowercase  b ) | 98 | b |\n",
    "| (End of Text) | 3 | ETX | (Number sign) | 35 | # | (Capital C) | 67 | C | (Lowercase  c ) | 99 | c |\n",
    "| (End of Transmission) | 4 | EOT | (Dollar sign) | 36 | $ | (Capital D) | 68 | D | (Lowercase  d ) | 100 | d |\n",
    "| (Enquiry) | 5 | ENQ | (Percent sign) | 37 | % | (Capital E) | 69 | E | (Lowercase  e ) | 101 | e |\n",
    "| (Acknowledgement) | 6 | ACK | (Ampersand) | 38 | & | (Capital F) | 70 | F | (Lowercase  f ) | 102 | f |\n",
    "| (Bell) | 7 | BEL | (Apostrophe) | 39 | ' | (Capital G) | 71 | G | (Lowercase  g ) | 103 | g |\n",
    "| (Backspace) | 8 | BS | (round brackets or parentheses) | 40 | ( | (Capital H) | 72 | H | (Lowercase  h ) | 104 | h |\n",
    "| (Horizontal Tab) | 9 | HT | (round brackets or parentheses) | 41 | ) | (Capital I) | 73 | I | (Lowercase  i ) | 105 | i |\n",
    "| (Line feed) | 10 | LF | (Asterisk) | 42 | * | (Capital J) | 74 | J | (Lowercase  j ) | 106 | j |\n",
    "| (Vertical Tab) | 11 | VT | (Plus sign) | 43 | + | (Capital K) | 75 | K | (Lowercase  k ) | 107 | k |\n",
    "| (Form feed) | 12 | FF | (Comma) | 44 | , | (Capital L) | 76 | L | (Lowercase  l ) | 108 | l |\n",
    "| (Carriage return) | 13 | CR | (Hyphen) | 45 | - | (Capital M) | 77 | M | (Lowercase  m ) | 109 | m |\n",
    "| (Shift Out) | 14 | SO | (Dot , full stop) | 46 | . | (Capital N) | 78 | N | (Lowercase  n ) | 110 | n |\n",
    "| (Shift In) | 15 | SI | (Slash) | 47 | / | (Capital O) | 79 | O | (Lowercase  o ) | 111 | o |\n",
    "| (Data link escape) | 16 | DLE | (number zero) | 48 | 0 | (Capital P) | 80 | P | (Lowercase  p ) | 112 | p |\n",
    "| (Device control 1) | 17 | DC1 | (number one) | 49 | 1 | (Capital Q) | 81 | Q | (Lowercase  q ) | 113 | q |\n",
    "| (Device control 2) | 18 | DC2 | (number two) | 50 | 2 | (Capital R) | 82 | R | (Lowercase  r ) | 114 | r |\n",
    "| (Device control 3) | 19 | DC3 | (number three) | 51 | 3 | (Capital S) | 83 | S | (Lowercase  s ) | 115 | s |\n",
    "| (Device control 4) | 20 | DC4 | (number four) | 52 | 4 | (Capital T) | 84 | T | (Lowercase  t ) | 116 | t |\n",
    "| (Negative acknowledgement) | 21 | NAK | (number five) | 53 | 5 | (Capital U) | 85 | U | (Lowercase  u ) | 117 | u |\n",
    "| (Synchronous idle) | 22 | SYN | (number six) | 54 | 6 | (Capital V) | 86 | V | (Lowercase  v ) | 118 | v |\n",
    "| (End of transmission block) | 23 | ETB | (number seven) | 55 | 7 | (Capital W) | 87 | W | (Lowercase  w ) | 119 | w |\n",
    "| (Cancel) | 24 | CAN | (number eight) | 56 | 8 | (Capital X) | 88 | X | (Lowercase  x ) | 120 | x |\n",
    "| (End of medium) | 25 | EM | (number nine) | 57 | 9 | (Capital Y) | 89 | Y | (Lowercase  y ) | 121 | y |\n",
    "| (Substitute) | 26 | SUB | (Colon) | 58 | : | (Capital Z) | 90 | Z | (Lowercase  z ) | 122 | z |\n",
    "| (Escape) | 27 | ESC | (Semicolon) | 59 | ; | (square brackets or box brackets) | 91 | [ | (curly brackets or braces) | 123 | { |\n",
    "| (File separator) | 28 | FS | (Less-than sign) | 60 | < | (Backslash) | 92 | \\ | (vertical-bar, vbar, vertical line or vertical slash) | 124 | | |\n",
    "| (Group separator) | 29 | GS | (Equals sign) | 61 | = | (square brackets or box brackets) | 93 | ] | (curly brackets or braces) | 125 | } |\n",
    "| (Record separator) | 30 | RS | (Greater-than sign ; Inequality) | 62 | > | (Caret or circumflex accent) | 94 | ^ | (Tilde ; swung dash) | 126 | ~ |\n",
    "| (Unit separator) | 31 | US | (Question mark) | 63 | ? | (underscore , understrike , underbar or low line) | 95 | _ | (Delete) | 127 | DEL |"
   ]
  },
  {
   "cell_type": "markdown",
   "metadata": {},
   "source": [
    "Dengan adanya tabel ASCII kita dapat menggunakan operator perbandingan lainnya sehingga dapat dibandingkan. Contohnya untuk simbol tanda tanya (?) bernilai 95 dan A bernilai 65."
   ]
  },
  {
   "cell_type": "code",
   "execution_count": 11,
   "metadata": {
    "scrolled": true
   },
   "outputs": [
    {
     "data": {
      "text/plain": [
       "False"
      ]
     },
     "execution_count": 11,
     "metadata": {},
     "output_type": "execute_result"
    }
   ],
   "source": [
    "# Membandingkan ? dan A\n",
    "\"?\" > \"A\""
   ]
  },
  {
   "cell_type": "code",
   "execution_count": 12,
   "metadata": {
    "scrolled": true
   },
   "outputs": [
    {
     "data": {
      "text/plain": [
       "True"
      ]
     },
     "execution_count": 12,
     "metadata": {},
     "output_type": "execute_result"
    }
   ],
   "source": [
    "\"?\" < \"A\""
   ]
  },
  {
   "cell_type": "markdown",
   "metadata": {},
   "source": [
    "Hasil yang benar adalah <code>?</code> lebih kecil dari <code>A</code>. Karena simbol tanda tanya (?) bernilai 95 lebih kecil hasilnya dari huruf A yang bernilai 65."
   ]
  },
  {
   "cell_type": "markdown",
   "metadata": {},
   "source": [
    "Mengetahui nilai pada suatu simbol atau huruf menggunakan operator <code>ord()</code>."
   ]
  },
  {
   "cell_type": "code",
   "execution_count": 13,
   "metadata": {},
   "outputs": [
    {
     "data": {
      "text/plain": [
       "65"
      ]
     },
     "execution_count": 13,
     "metadata": {},
     "output_type": "execute_result"
    }
   ],
   "source": [
    "ord(\"A\")"
   ]
  },
  {
   "cell_type": "markdown",
   "metadata": {},
   "source": [
    "Sebaliknya, jika ingin mengetahui karakter (huruf atau simbol) dari suatu angka menggunakan <code>chr()</code>."
   ]
  },
  {
   "cell_type": "code",
   "execution_count": 14,
   "metadata": {},
   "outputs": [
    {
     "data": {
      "text/plain": [
       "'A'"
      ]
     },
     "execution_count": 14,
     "metadata": {},
     "output_type": "execute_result"
    }
   ],
   "source": [
    "chr(65)"
   ]
  },
  {
   "cell_type": "markdown",
   "metadata": {},
   "source": [
    "----------"
   ]
  },
  {
   "cell_type": "markdown",
   "metadata": {},
   "source": [
    "### 2. Branching"
   ]
  },
  {
   "cell_type": "markdown",
   "metadata": {},
   "source": [
    "Branching dapat digunakan untuk mengerjakan suatu pernyataaan berbeda untuk input berbeda. Hal ini membantu dalam *if statement*, yaitu jika pernyataan ***True*** atau benar maka akan melaksanakan perintah selanjutnya, tetapi jika pernyataan ***False*** atau salah makan program tidak akan menjalankan tugasnya."
   ]
  },
  {
   "cell_type": "markdown",
   "metadata": {},
   "source": [
    "Dalam menggunakan if statements harus diakhiri dengan titik dua (:), dilanjutkan dengan perintahnya. Ada beberapa *if statements*, yaitu:\n",
    "- if --> jika benar akan melakukan perintah if pada indentasi/tab masuk dan perintah selanjutnya, jika salah akan langsung melakukan perintah berikutnya.\n",
    "- if-else --> jika benar akan melakukan perintah if yang indentasi/tab masuk dan perintah selanjutnya, jika salah akan melakukan perintah else dan perintah selanjutnya.\n",
    "- elif -->jika benar if statement nya akan melakukan perintah if yang indentasi/tab masuk dan perintah selanjutnya, jika benar elif statement nya akan melakukan perintah elif yang indentasi/tab masuk dan perintah selanjutnya, jika salah akan melakukan perintah else dan perintah selanjutnya."
   ]
  },
  {
   "cell_type": "markdown",
   "metadata": {},
   "source": [
    "Contohnya sebuah sirkus hanya diperbolehkan ditonton oleh orang yang berumur lebih dari 12 tahun. Artinya jika umur orang tersebut 13, 14, dst maka orang tersebut diperbolehkan masuk. Sebaliknya jika orang tersebut berumur 12, 11, dst maka orang tersebut tidak diperbolehkan masuk.\n",
    "\n",
    "Untuk menyelesaikan masalah tersebut digunakan *if statement*\n",
    "\n",
    "if condition:\n",
    "    \n",
    "    kerjakan sesuatu jika kondisi diterima"
   ]
  },
  {
   "cell_type": "markdown",
   "metadata": {},
   "source": [
    "**If Statements**"
   ]
  },
  {
   "cell_type": "code",
   "execution_count": 15,
   "metadata": {},
   "outputs": [],
   "source": [
    "age = 11"
   ]
  },
  {
   "cell_type": "code",
   "execution_count": 16,
   "metadata": {
    "scrolled": true
   },
   "outputs": [
    {
     "name": "stdout",
     "output_type": "stream",
     "text": [
      "Lanjut\n"
     ]
    }
   ],
   "source": [
    "# if statement\n",
    "if age >= 12:\n",
    "    print(\"Silahkan masuk\")\n",
    "    \n",
    "print(\"Lanjut\")"
   ]
  },
  {
   "cell_type": "markdown",
   "metadata": {},
   "source": [
    "Dalam hal ini jika pernyataan salah karena umur orang tersebut lebih kecil dari 12, maka tidak akan melakukan perintah if nya kemudian langsung melakukan perintah selanjutnya."
   ]
  },
  {
   "cell_type": "code",
   "execution_count": 17,
   "metadata": {},
   "outputs": [],
   "source": [
    "age = 13"
   ]
  },
  {
   "cell_type": "code",
   "execution_count": 18,
   "metadata": {},
   "outputs": [
    {
     "name": "stdout",
     "output_type": "stream",
     "text": [
      "Silahkan masuk\n",
      "Lanjut\n"
     ]
    }
   ],
   "source": [
    "# if statement\n",
    "if age >= 12:\n",
    "    print(\"Silahkan masuk\")\n",
    "    \n",
    "print(\"Lanjut\")"
   ]
  },
  {
   "cell_type": "markdown",
   "metadata": {},
   "source": [
    "Dalam hal ini jika pernyataan benar karena umur orang tersebut lebih besar dari 12, maka akan melakukan perintah if nya serta melakukan perintah selanjutnya juga."
   ]
  },
  {
   "cell_type": "markdown",
   "metadata": {},
   "source": [
    "Berikut ilustrasinya:\n",
    "\n",
    "<img src=\"img/CondsIf.gif\" width=\"650\" />"
   ]
  },
  {
   "cell_type": "markdown",
   "metadata": {},
   "source": [
    "**If-else Statement**"
   ]
  },
  {
   "cell_type": "code",
   "execution_count": 19,
   "metadata": {},
   "outputs": [
    {
     "name": "stdout",
     "output_type": "stream",
     "text": [
      "Kamu belum bisa masuk\n",
      "Lanjut\n"
     ]
    }
   ],
   "source": [
    "# if-else statement\n",
    "age = 11\n",
    "\n",
    "if age >= 12:\n",
    "    print(\"Silahkan masuk\")\n",
    "else:\n",
    "    print(\"Kamu belum bisa masuk\")\n",
    "    \n",
    "print(\"Lanjut\")"
   ]
  },
  {
   "cell_type": "markdown",
   "metadata": {},
   "source": [
    "Dalam hal ini jika pernyataan salah karena umur orang tersebut lebih kecil dari 12, maka akan melakukan perintah else nya serta melakukan perintah selanjutnya juga."
   ]
  },
  {
   "cell_type": "code",
   "execution_count": 20,
   "metadata": {},
   "outputs": [
    {
     "name": "stdout",
     "output_type": "stream",
     "text": [
      "Silahkan masuk\n",
      "Lanjut\n"
     ]
    }
   ],
   "source": [
    "# if-else statement\n",
    "age = 13\n",
    "\n",
    "if age >= 12:\n",
    "    print(\"Silahkan masuk\")\n",
    "else:\n",
    "    print(\"Kamu belum bisa masuk\")\n",
    "    \n",
    "print(\"Lanjut\")"
   ]
  },
  {
   "cell_type": "markdown",
   "metadata": {},
   "source": [
    "Dalam hal ini jika pernyataan benar karena umur orang tersebut lebih besar dari 12, maka akan melakukan perintah if nya serta melakukan perintah selanjutnya juga."
   ]
  },
  {
   "cell_type": "markdown",
   "metadata": {},
   "source": [
    "Berikut ilustrasinya :\n",
    "\n",
    "<img src=\"img/CondsElse.gif\" width=\"650\" />"
   ]
  },
  {
   "cell_type": "markdown",
   "metadata": {},
   "source": [
    "**Elif Statement**"
   ]
  },
  {
   "cell_type": "code",
   "execution_count": 21,
   "metadata": {},
   "outputs": [
    {
     "name": "stdout",
     "output_type": "stream",
     "text": [
      "Kamu belum bisa masuk\n",
      "Lanjut\n"
     ]
    }
   ],
   "source": [
    "# elif statement\n",
    "age = 11\n",
    "\n",
    "if age > 12:\n",
    "    print(\"Silahkan masuk\")\n",
    "elif age == 12:\n",
    "    print(\"Silahkan masuk ke pintu VIP\")\n",
    "else:\n",
    "    print(\"Kamu belum bisa masuk\")\n",
    "    \n",
    "print(\"Lanjut\")"
   ]
  },
  {
   "cell_type": "markdown",
   "metadata": {},
   "source": [
    "Dalam hal ini jika pernyataan if dan elif salah karena umur orang tersebut lebih kecil dari 12, maka akan melakukan perintah else nya serta melakukan perintah selanjutnya juga."
   ]
  },
  {
   "cell_type": "code",
   "execution_count": 22,
   "metadata": {},
   "outputs": [
    {
     "name": "stdout",
     "output_type": "stream",
     "text": [
      "Silahkan masuk ke pintu VIP\n",
      "Lanjut\n"
     ]
    }
   ],
   "source": [
    "# elif statement\n",
    "age = 12\n",
    "\n",
    "if age > 12:\n",
    "    print(\"Silahkan masuk\")\n",
    "elif age == 12:\n",
    "    print(\"Silahkan masuk ke pintu VIP\")\n",
    "else:\n",
    "    print(\"Kamu belum bisa masuk\")\n",
    "    \n",
    "print(\"Lanjut\")"
   ]
  },
  {
   "cell_type": "markdown",
   "metadata": {},
   "source": [
    "Dalam hal ini pernyataan elif benar karena umur orang tersebut sama dengan 12, maka akan melakukan perintah elif nya serta melakukan perintah selanjutnya juga."
   ]
  },
  {
   "cell_type": "code",
   "execution_count": 23,
   "metadata": {},
   "outputs": [
    {
     "name": "stdout",
     "output_type": "stream",
     "text": [
      "Silahkan masuk\n",
      "Lanjut\n"
     ]
    }
   ],
   "source": [
    "# elif statement\n",
    "age = 13\n",
    "\n",
    "if age > 12:\n",
    "    print(\"Silahkan masuk\")\n",
    "elif age == 12:\n",
    "    print(\"Silahkan masuk ke pintu VIP\")\n",
    "else:\n",
    "    print(\"Kamu belum bisa masuk\")\n",
    "    \n",
    "print(\"Lanjut\")"
   ]
  },
  {
   "cell_type": "markdown",
   "metadata": {},
   "source": [
    "Dalam hal ini pernyataan if benar karena umur orang tersebut lebih besar dari 12, maka akan melakukan perintah if nya serta melakukan perintah selanjutnya juga."
   ]
  },
  {
   "cell_type": "markdown",
   "metadata": {},
   "source": [
    "Berikut ilustrasinya:\n",
    "\n",
    "<img src =\"img/CondsElif.gif\" width=\"650\" />"
   ]
  },
  {
   "cell_type": "markdown",
   "metadata": {},
   "source": [
    "<hr/>\n",
    "<div class=\"alert alert-success alertsuccess\" style=\"margin-top: 20px\">\n",
    "    Lebih banyak method mengenai branching dan conditions, dapat dilihat di link berikut :\n",
    "    \n",
    "    • https://docs.python.org/3/library/stdtypes.html#truth-value-testing\n",
    "    • https://docs.python.org/3/library/stdtypes.html#boolean-operations-and-or-not\n",
    "    • https://docs.python.org/3/library/stdtypes.html#comparisons\n",
    "    • https://docs.python.org/3/reference/expressions.html#comparisons\n",
    "    • https://docs.python.org/3/reference/expressions.html#boolean-operations\n",
    "    • https://docs.python.org/3/reference/expressions.html#conditional-expressions\n",
    "    • https://docs.python.org/3/reference/compound_stmts.html#the-if-statement\n",
    "</div>\n",
    "<hr/>"
   ]
  },
  {
   "cell_type": "markdown",
   "metadata": {},
   "source": [
    "### 3. Operasi Logika"
   ]
  },
  {
   "cell_type": "markdown",
   "metadata": {},
   "source": [
    "Operasi logika digunakan untuk mengecek beberapa kondisi. Misalnya ingin mengecek kapan suatu kondisi dan kondisi lain dapat bernilai benar. Atau bisa juga sebaliknya mengecek kapan suatu kondisi dan kondisi lain dapat bernilai salah. Hasil dari operasi logika adalah bilangan boolean. Terdapat 3 operasi logika, yaitu:\n",
    "- <code>and</code>\n",
    "- <code>or</code>\n",
    "- <code>not</code>"
   ]
  },
  {
   "cell_type": "markdown",
   "metadata": {},
   "source": [
    "**and**"
   ]
  },
  {
   "cell_type": "markdown",
   "metadata": {},
   "source": [
    "Tabel kebenaran <code>and</code> yaitu:\n",
    "<img src = img/and.png>"
   ]
  },
  {
   "cell_type": "code",
   "execution_count": 24,
   "metadata": {},
   "outputs": [
    {
     "name": "stdout",
     "output_type": "stream",
     "text": [
      "Album year was in between 1980 and 1989\n",
      "\n",
      "Do Stuff..\n"
     ]
    }
   ],
   "source": [
    "# Contoh condition statement\n",
    "album_year = 1980\n",
    "\n",
    "if(album_year > 1979) and (album_year < 1990):\n",
    "    print (\"Album year was in between 1980 and 1989\")\n",
    "    \n",
    "print(\"\")\n",
    "print(\"Do Stuff..\")"
   ]
  },
  {
   "cell_type": "markdown",
   "metadata": {},
   "source": [
    "<img src=\"img/CondsEgOne.png\" width=\"650\" />"
   ]
  },
  {
   "cell_type": "markdown",
   "metadata": {},
   "source": [
    "**or**"
   ]
  },
  {
   "cell_type": "markdown",
   "metadata": {},
   "source": [
    "Tabel kebenaran <code>or</code> yaitu:\n",
    "<img src = img/or.png>"
   ]
  },
  {
   "cell_type": "code",
   "execution_count": 25,
   "metadata": {},
   "outputs": [
    {
     "name": "stdout",
     "output_type": "stream",
     "text": [
      "Album was not made in the 1980's\n"
     ]
    }
   ],
   "source": [
    "# Contoh condition statement\n",
    "album_year = 1990\n",
    "\n",
    "if(album_year < 1980) or (album_year > 1989):\n",
    "    print (\"Album was not made in the 1980's\")\n",
    "else:\n",
    "    print(\"The Album was made in the 1980's \")"
   ]
  },
  {
   "cell_type": "markdown",
   "metadata": {},
   "source": [
    "<img src=\"img/CondsEgTwo.png\" width=\"650\" />"
   ]
  },
  {
   "cell_type": "markdown",
   "metadata": {},
   "source": [
    "**not**"
   ]
  },
  {
   "cell_type": "markdown",
   "metadata": {},
   "source": [
    "Tabel kebenaran <code>not</code> yaitu:\n",
    "<img src = img/not.png>"
   ]
  },
  {
   "cell_type": "code",
   "execution_count": 26,
   "metadata": {},
   "outputs": [
    {
     "name": "stdout",
     "output_type": "stream",
     "text": [
      "Album year is not 1984\n"
     ]
    }
   ],
   "source": [
    "# Contoh condition statement\n",
    "album_year = 1983\n",
    "\n",
    "if not (album_year == '1984'):\n",
    "    print (\"Album year is not 1984\")"
   ]
  },
  {
   "cell_type": "markdown",
   "metadata": {},
   "source": [
    "----------"
   ]
  },
  {
   "cell_type": "markdown",
   "metadata": {},
   "source": [
    "Semoga Bermanfaat :)\n",
    "\n",
    "Terimakasih"
   ]
  },
  {
   "cell_type": "markdown",
   "metadata": {},
   "source": [
    "------"
   ]
  }
 ],
 "metadata": {
  "kernelspec": {
   "display_name": "Python 3",
   "language": "python",
   "name": "python3"
  },
  "language_info": {
   "codemirror_mode": {
    "name": "ipython",
    "version": 3
   },
   "file_extension": ".py",
   "mimetype": "text/x-python",
   "name": "python",
   "nbconvert_exporter": "python",
   "pygments_lexer": "ipython3",
   "version": "3.7.3"
  }
 },
 "nbformat": 4,
 "nbformat_minor": 2
}
