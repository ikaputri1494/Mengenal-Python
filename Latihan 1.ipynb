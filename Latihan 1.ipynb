{
 "cells": [
  {
   "cell_type": "markdown",
   "metadata": {},
   "source": [
    "# Latihan"
   ]
  },
  {
   "cell_type": "markdown",
   "metadata": {},
   "source": [
    "Berapakah hasil <code>x</code>? dimana <code>x = 3 + 2 * 2</code>"
   ]
  },
  {
   "cell_type": "code",
   "execution_count": 8,
   "metadata": {},
   "outputs": [],
   "source": [
    "# isikan jawabanmu di sini\n"
   ]
  },
  {
   "cell_type": "markdown",
   "metadata": {},
   "source": [
    "Double-click __disini__ untuk melihat solusinya.\n",
    "\n",
    "<!-- Disini jawabannya:\n",
    "7\n",
    "-->\n",
    "\n",
    "-----------------------"
   ]
  },
  {
   "cell_type": "markdown",
   "metadata": {},
   "source": [
    "Berapakah hasil <code>y</code>? dimana <code>y = (3 + 2) * 2</code>"
   ]
  },
  {
   "cell_type": "code",
   "execution_count": null,
   "metadata": {},
   "outputs": [],
   "source": [
    "# isikan jawabanmu di sini\n"
   ]
  },
  {
   "cell_type": "markdown",
   "metadata": {},
   "source": [
    "Double-click __disini__ untuk melihat solusinya.\n",
    "\n",
    "<!-- Disini jawabannya:\n",
    "10\n",
    "-->\n",
    "\n",
    "-----------------"
   ]
  },
  {
   "cell_type": "markdown",
   "metadata": {},
   "source": [
    "Berapakah hasil <code>z</code>? dimana <code>z = x + y</code>"
   ]
  },
  {
   "cell_type": "code",
   "execution_count": null,
   "metadata": {},
   "outputs": [],
   "source": [
    "# isikan jawabanmu di sini\n"
   ]
  },
  {
   "cell_type": "markdown",
   "metadata": {},
   "source": [
    "Double-click __disini__ untuk melihat solusinya.\n",
    "\n",
    "<!-- Disini jawabannya:\n",
    "17\n",
    "-->\n",
    "\n",
    "-----------"
   ]
  },
  {
   "cell_type": "markdown",
   "metadata": {},
   "source": [
    "Definisikan variabe log dengan string, dimana terdapat bagian log untuk permintaan gambar dari web server berikut:\n",
    "\n",
    "128.0.0.1 - - [12/Feb/2011:10:31:08 -0600] \"GET /docs/test.txt HTTP/1.0\""
   ]
  },
  {
   "cell_type": "code",
   "execution_count": 9,
   "metadata": {},
   "outputs": [],
   "source": [
    "# isikan jawabanmu di sini\n"
   ]
  },
  {
   "cell_type": "markdown",
   "metadata": {},
   "source": [
    "Double-click __disini__ untuk melihat solusinya.\n",
    "\n",
    "<!-- Disini jawabannya:\n",
    "log = '128.0.0.1 - - [12/Feb/2011:10:31:08 -0600] \"GET /docs/test.txt HTTP/1.0\"'\n",
    "-->"
   ]
  },
  {
   "cell_type": "markdown",
   "metadata": {},
   "source": [
    "Definisikan variabel address dengan alamat web yang ada pada substring variabel log. Gunakan method split() dan operator index."
   ]
  },
  {
   "cell_type": "code",
   "execution_count": 6,
   "metadata": {},
   "outputs": [],
   "source": [
    "# isikan jawabanmu di sini\n"
   ]
  },
  {
   "cell_type": "markdown",
   "metadata": {},
   "source": [
    "Double-click __disini__ untuk melihat solusinya.\n",
    "\n",
    "<!-- Disini jawabannya:\n",
    "address = log.split()[0]\n",
    "-->"
   ]
  },
  {
   "cell_type": "markdown",
   "metadata": {},
   "source": [
    "Definisikan variabel date dengan tanggal yang ada pada substring variabel log. Variabel tersebut harus berisikan 12/Feb/2011:10:31:08 -0600, gunakan operator index."
   ]
  },
  {
   "cell_type": "code",
   "execution_count": 7,
   "metadata": {},
   "outputs": [],
   "source": [
    "# isikan jawabanmu di sini \n"
   ]
  },
  {
   "cell_type": "markdown",
   "metadata": {},
   "source": [
    "Double-click __disini__ untuk melihat solusinya.\n",
    "\n",
    "<!-- Disini jawabannya:\n",
    "date = log[log.find('[')+1 : log.find(']')]\n",
    "-->\n",
    "\n",
    "---------"
   ]
  },
  {
   "cell_type": "markdown",
   "metadata": {},
   "source": [
    "Implementasikan fungsi avg() untuk pembagian pada input list angka yang ada. Beberapa list angka merepresentasikan nilai yang diterima masing-masing siswa. Berikut contoh input list angka untuk 4 siswa:\n",
    "\n",
    "[[95, 92, 86, 87], [66, 54], [89, 72, 100], [33, 0, 0]]\n",
    "\n",
    "Fungsi avg harus dicetak satu baris satu hasil untuk masing-masing rata-rata nilai siswa. Diasumsikan setiap list nilai adalah tidak kosong dan setiap siswa memiliki nilainya masing-masing dengan jumlah yang tidak sama."
   ]
  },
  {
   "cell_type": "code",
   "execution_count": 4,
   "metadata": {},
   "outputs": [],
   "source": [
    "# isikan jawabanmu di sini\n"
   ]
  },
  {
   "cell_type": "markdown",
   "metadata": {},
   "source": [
    "Double-click __disini__ untuk melihat solusinya.\n",
    "\n",
    "<!-- Disini jawabannya:\n",
    "def avg(grades):\n",
    "    for l in grades:\n",
    "        print(sum(l)/len(l))\n",
    "\n",
    "avg([[95, 92, 86, 87], [66, 54], [89, 72, 100], [33, 0, 0]])\n",
    "-->"
   ]
  }
 ],
 "metadata": {
  "kernelspec": {
   "display_name": "Python 3",
   "language": "python",
   "name": "python3"
  },
  "language_info": {
   "codemirror_mode": {
    "name": "ipython",
    "version": 3
   },
   "file_extension": ".py",
   "mimetype": "text/x-python",
   "name": "python",
   "nbconvert_exporter": "python",
   "pygments_lexer": "ipython3",
   "version": "3.7.3"
  }
 },
 "nbformat": 4,
 "nbformat_minor": 2
}
